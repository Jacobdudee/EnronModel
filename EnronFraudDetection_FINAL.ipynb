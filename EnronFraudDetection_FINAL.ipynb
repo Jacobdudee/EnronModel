{
 "cells": [
  {
   "cell_type": "markdown",
   "metadata": {},
   "source": [
    "# Identifying Fraud in the Enron Dataset: Building a POI Classifier\n",
    "\n",
    "## By Jacob Dodd"
   ]
  },
  {
   "cell_type": "markdown",
   "metadata": {
    "collapsed": false
   },
   "source": [
    "## Introduction\n",
    "\n",
    "### Background\n",
    "\n",
    "In 2000, Enron was one of the largest companies in the United States. By 2002, it had collapsed into bankruptcy due to widespread corporate fraud. As a result of the ensuing trial, many of the employees emails had their emails and financial information released. \n",
    "\n",
    "### Project Goal\n",
    "\n",
    "This project seeks to classify former Enron employees as \"Persons of Interest\",or people that the authorities should interview in the investigation, based on the dataset described above. \n",
    "\n",
    "I will be using Python and Python's data analysis and machine learning libraries to accomplish this task. Python is a flexible, general purpose programming language with libraries that allow mining of all data, including text data, easy and efficient.\n",
    "\n",
    "Machine learning is great for this task, as there are many strong classification algorithms that can seek patterns in the data that someone manually looking over might not, while being quicker as well.\n",
    "\n",
    "This project was completed as part of my Data Analyst Nanodegree from Udacity. \n",
    "\n",
    "##### Full code is available at my github repo for the project: https://github.com/Jacobdudee/EnronModel/blob/master/\n",
    "\n",
    "##### I hereby confirm that this submission is my work. I have cited above the origins of any parts of the submission that were taken from Websites, books, forums, blog posts, github repositories, etc."
   ]
  },
  {
   "cell_type": "code",
   "execution_count": 117,
   "metadata": {
    "collapsed": true
   },
   "outputs": [],
   "source": [
    "import pickle as pkl\n",
    "import pandas as pd\n",
    "import numpy as np\n",
    "import seaborn as sns\n",
    "import matplotlib.pyplot as plt\n",
    "%matplotlib inline\n",
    "import matplotlib.lines as mlines"
   ]
  },
  {
   "cell_type": "code",
   "execution_count": 126,
   "metadata": {
    "collapsed": false
   },
   "outputs": [
    {
     "name": "stdout",
     "output_type": "stream",
     "text": [
      "\n"
     ]
    }
   ],
   "source": [
    "### Load the dictionary containing the dataset\n",
    "with open(\"final_project_dataset.pkl\", \"r\") as data_file:\n",
    "    data_dict = pkl.load(data_file)\n",
    "\n",
    "#pandas dataframe for exploration purposes\n",
    "enron_df = pd.DataFrame.from_dict(data_dict,orient='index')"
   ]
  },
  {
   "cell_type": "markdown",
   "metadata": {
    "collapsed": false
   },
   "source": [
    "## Dataset Overview \n",
    "\n",
    "##### Features\n",
    "\n",
    "There is a mix of email and financial features:\n",
    "\n",
    "- <b/>'poi' [Target Variable]</b>\n",
    "- 'salary'\n",
    "- 'deferral_payments'\n",
    "- 'total_payments' \n",
    "- 'loan_advances' \n",
    "- 'bonus'\n",
    "-'restricted_stock_deferred'\n",
    "- 'deferred_income'\n",
    "- 'total_stock_value'\n",
    "- 'expenses'\n",
    "- 'exercised_stock_options'\n",
    "- 'long_term_incentive'\n",
    "- 'restricted_stock'\n",
    "- 'director_fees'\n",
    "- 'from_poi_to_this_person'\n",
    "- 'from_this_person_to_poi'\n",
    "- 'shared_receipt_with_poi'\n",
    "- 'to_messages'\n",
    "- 'from_messages'\n",
    "\n",
    "Some features that caught my eye were messages to and from persons of interest, some features we could create are the percentage of emails to a person of interest and from a person of interest. \n",
    "\n",
    "##### Outlier Detection\n",
    "\n",
    "There was one outlier, with the name \"TOTAL\". As the financial data comes from a spreadsheet, this was probably just some quirk. It was removed. \n"
   ]
  },
  {
   "cell_type": "code",
   "execution_count": 127,
   "metadata": {
    "collapsed": false
   },
   "outputs": [],
   "source": [
    "### Task 2: Remove outliers\n",
    "data_dict.pop(\"TOTAL\")\n",
    "enron_df = enron_df[enron_df.index != \"TOTAL\"]"
   ]
  },
  {
   "cell_type": "markdown",
   "metadata": {},
   "source": [
    "##### Missing features\n",
    "\n",
    "Let's take a look at the rate of non-null values for each feature:"
   ]
  },
  {
   "cell_type": "code",
   "execution_count": 128,
   "metadata": {
    "collapsed": false
   },
   "outputs": [
    {
     "name": "stdout",
     "output_type": "stream",
     "text": [
      "salary 94 0.65\n",
      "to_messages 86 0.59\n",
      "deferral_payments 38 0.26\n",
      "total_payments 124 0.86\n",
      "exercised_stock_options 101 0.7\n",
      "bonus 81 0.56\n",
      "restricted_stock 109 0.75\n",
      "shared_receipt_with_poi 86 0.59\n",
      "restricted_stock_deferred 17 0.12\n",
      "total_stock_value 125 0.86\n",
      "expenses 94 0.65\n",
      "loan_advances 3 0.02\n",
      "from_messages 86 0.59\n",
      "other 92 0.63\n",
      "from_this_person_to_poi 86 0.59\n",
      "director_fees 16 0.11\n",
      "deferred_income 48 0.33\n",
      "long_term_incentive 65 0.45\n",
      "email_address 111 0.77\n",
      "from_poi_to_this_person 86 0.59\n"
     ]
    }
   ],
   "source": [
    "for col in enron_df.columns:\n",
    "    if str(enron_df[col].dtype) != 'bool':\n",
    "        print col,(enron_df[enron_df[col] !='NaN'][col].count()) \\\n",
    "        ,round((enron_df[enron_df[col] !='NaN'][col].count())/ \\\n",
    "        (float(enron_df.shape[0])),2)"
   ]
  },
  {
   "cell_type": "markdown",
   "metadata": {},
   "source": [
    "Many of the features here do have a lot of missing values (> 50%). \n",
    "Salary, to_messages, total_payments and total stock value are some of the more complete features.  \n",
    "\n",
    "There are some features with almost no data, like loan_advances, or director_fees. In any case, data quality on this dataset is not close to perfect."
   ]
  },
  {
   "cell_type": "markdown",
   "metadata": {
    "collapsed": true
   },
   "source": [
    "## Data Exploration"
   ]
  },
  {
   "cell_type": "markdown",
   "metadata": {},
   "source": [
    "#### How many persons of interest are there in this dataset?"
   ]
  },
  {
   "cell_type": "code",
   "execution_count": 50,
   "metadata": {
    "collapsed": false
   },
   "outputs": [
    {
     "name": "stdout",
     "output_type": "stream",
     "text": [
      "number of poi: 18\n"
     ]
    }
   ],
   "source": [
    "print(\"number of poi: {}\".format(enron_df[enron_df['poi']==True]['poi'].count()))"
   ]
  },
  {
   "cell_type": "markdown",
   "metadata": {},
   "source": [
    "#### how many people are there in this dataset?\n"
   ]
  },
  {
   "cell_type": "code",
   "execution_count": 22,
   "metadata": {
    "collapsed": false
   },
   "outputs": [
    {
     "name": "stdout",
     "output_type": "stream",
     "text": [
      "Number of people: 145\n"
     ]
    }
   ],
   "source": [
    "print(\"Number of people: {}\".format(len(data_dict.keys())))"
   ]
  },
  {
   "cell_type": "markdown",
   "metadata": {},
   "source": [
    "#### how many features per person?"
   ]
  },
  {
   "cell_type": "code",
   "execution_count": 26,
   "metadata": {
    "collapsed": false
   },
   "outputs": [
    {
     "name": "stdout",
     "output_type": "stream",
     "text": [
      "Number of features/person: 21\n"
     ]
    }
   ],
   "source": [
    "print(\"Number of features/person: {}\".format(len(data_dict.values()[1])))"
   ]
  },
  {
   "cell_type": "markdown",
   "metadata": {},
   "source": [
    "#### What is the relationship between salary and long term incentive?"
   ]
  },
  {
   "cell_type": "code",
   "execution_count": 124,
   "metadata": {
    "collapsed": false,
    "scrolled": false
   },
   "outputs": [
    {
     "data": {
      "image/png": "[encoded data removed]",
      "text/plain": [
       "<matplotlib.figure.Figure at 0x10f077810>"
      ]
     },
     "metadata": {},
     "output_type": "display_data"
    }
   ],
   "source": [
    "#creating plot\n",
    "fig, ax = plt.subplots(1,1,figsize=(9,6))\n",
    "c_map = {1: 'r', 0: 'b'}\n",
    "ax.scatter(enron_df['salary'],enron_df['long_term_incentive'], \n",
    "           c=[c_map[i] for i in enron_df['poi']])\n",
    "plt.ylabel(\"Long Term Incentive ($)\")\n",
    "plt.xlabel(\"Salary ($)\")\n",
    "plt.title(\"Salary vs. Long Term Incentive\")\n",
    "\n",
    "not_poi = mlines.Line2D([], [], color='blue', marker='o',\n",
    "                          markersize=10, label='Not POI')\n",
    "poi = mlines.Line2D([], [], color='red', marker='o',\n",
    "                          markersize=10, label='POI')\n",
    "plt.legend(handles=[not_poi,poi])\n",
    "\n",
    "plt.show()"
   ]
  },
  {
   "cell_type": "markdown",
   "metadata": {},
   "source": [
    "## Pre-Processing and Feature Selection"
   ]
  },
  {
   "cell_type": "markdown",
   "metadata": {},
   "source": [
    "### Feature Engineering\n",
    "\n",
    "As discussed earlier in the overview section, I set out to create 2 new features:\n",
    "\n",
    "1) perc_from_poi: the percentage of emails the person received from a poi\n",
    "\n",
    "2) perc_to_poi: the percentage of emails the person sent to a poi\n",
    "\n",
    "The logic behind these features is that POI could have sent a lot of communications between each other, discussing fraudulent activities. These features aim to quantify this in a generalizable way, hopefully having higher predictive power than a number of messages from a POI without the whole context. \n",
    "This was calculated by the following formulas:\n",
    "\n",
    "- perc_from_poi =  from_poi_to_this_person/from_messages\n",
    "\n",
    "- perc_to_poi =  to_poi_from_this_person/to_messages\n"
   ]
  },
  {
   "cell_type": "code",
   "execution_count": 51,
   "metadata": {
    "collapsed": false
   },
   "outputs": [],
   "source": [
    "# creating copy\n",
    "my_dataset = data_dict\n",
    "\n",
    "# creating new features\n",
    "for key in my_dataset:\n",
    "    empl = my_dataset[key]\n",
    "    perc_to_poi, perc_from_poi = [] , []\n",
    "    if (empl['from_this_person_to_poi'] != 'NaN') & (empl['from_messages'] != 'NaN'):\n",
    "        perc_to_poi = float(empl['from_this_person_to_poi'])/float(empl['from_messages'])\n",
    "        empl['perc_to_poi'] = perc_to_poi\n",
    "    else:\n",
    "        empl['perc_to_poi'] = 0\n",
    "    \n",
    "    if (empl['from_poi_to_this_person'] != 'NaN') & (empl['to_messages'] != 'NaN'):\n",
    "        perc_to_poi = float(empl['from_poi_to_this_person'])/float(empl['to_messages'])\n",
    "        empl['perc_from_poi'] = perc_to_poi\n",
    "    else:\n",
    "        empl['perc_from_poi'] = 0"
   ]
  },
  {
   "cell_type": "markdown",
   "metadata": {},
   "source": [
    "### Feature Selection\n",
    "\n",
    "Once these 2 new features were added to our data, we now had 23 features. With the low number of POI in the dataset (18 out of 145, ~12%), creating a model with all 23 features is ripe for overfitting. One way to describe overfitting is it is when the model picks up on noise in the dataset when trained, so when introduced to new information it loses predictive power. When a model has a larger number of features, there is bound to be more noise. Thus, we need to reduce the number of features in the dataset, which in turn will reduce the potential for overfitting.\n",
    "\n",
    "To accomplish this with this dataset, I will use the k-best object from scikit-learn's pre-processing module. This class scores your dataset's features and allows you to select the k best number of features. In this case, I will select the top 10 features. "
   ]
  },
  {
   "cell_type": "code",
   "execution_count": 103,
   "metadata": {
    "collapsed": false
   },
   "outputs": [],
   "source": [
    "#from feature_format import featureFormat, targetFeatureSplit\n",
    "from sklearn.feature_selection import SelectKBest"
   ]
  },
  {
   "cell_type": "code",
   "execution_count": 101,
   "metadata": {
    "collapsed": false
   },
   "outputs": [],
   "source": [
    "#Select 10 best features using k-best\n",
    "k_best = SelectKBest(k=11)\n",
    "k_best.fit(features, labels )"
   ]
  },
  {
   "cell_type": "markdown",
   "metadata": {},
   "source": [
    "##### SelectKBest Feature Importances"
   ]
  },
  {
   "cell_type": "code",
   "execution_count": null,
   "metadata": {
    "collapsed": true
   },
   "outputs": [],
   "source": [
    "9     exercised_stock_options  25.097542\n",
    "7           total_stock_value  24.467654\n",
    "4                       bonus  21.060002\n",
    "0                      salary  18.575703\n",
    "19                perc_to_poi  16.641707\n",
    "6             deferred_income  11.595548\n",
    "10        long_term_incentive  10.072455\n",
    "11           restricted_stock   9.346701\n",
    "2              total_payments   8.866722\n",
    "15    shared_receipt_with_poi   8.746486\n",
    "3               loan_advances   7.242730\n",
    "8                    expenses   6.234201\n",
    "13    from_poi_to_this_person   5.344942\n",
    "18              perc_from_poi   3.210762\n",
    "14    from_this_person_to_poi   2.426508\n",
    "12              director_fees   2.107656\n",
    "16                to_messages   1.698824\n",
    "1           deferral_payments   0.217059\n",
    "17              from_messages   0.164164\n",
    "5   restricted_stock_deferred   0.064984"
   ]
  },
  {
   "cell_type": "markdown",
   "metadata": {},
   "source": [
    "The strongest features were exerscised stock options, total stock value, bonus, salary, and percentage of emails to poi. \n",
    "\n",
    "#### Features Used\n",
    "The following features were selected by kbest:"
   ]
  },
  {
   "cell_type": "code",
   "execution_count": 110,
   "metadata": {
    "collapsed": false
   },
   "outputs": [
    {
     "name": "stdout",
     "output_type": "stream",
     "text": [
      "['deferral_payments', 'total_payments', 'loan_advances', 'restricted_stock_deferred', 'deferred_income', 'expenses', 'exercised_stock_options', 'long_term_incentive', 'from_this_person_to_poi', 'perc_from_poi']\n"
     ]
    }
   ],
   "source": [
    "kbest_features = ['poi','deferral_payments', 'total_payments', 'loan_advances', \n",
    "                  'restricted_stock_deferred', 'deferred_income', 'expenses', \n",
    "                  'exercised_stock_options', 'long_term_incentive',\n",
    "                  'from_this_person_to_poi', 'perc_from_poi']\n",
    "print(kbest_features[1:])"
   ]
  },
  {
   "cell_type": "markdown",
   "metadata": {},
   "source": [
    "## Modeling\n",
    "\n",
    "### Methodology\n",
    "\n",
    "##### Hyperparameter tuning\n",
    "Hyperparameters are the different knobs you can turn for a machine learning algorithm. \n",
    "\n",
    "Some models, like a Decision Tree or AdaBoost, have many hyperparameters that you can tune. Others, like a gaussian naive bayes model, do not.\n",
    "Tuning can be done either programmatically, with the assistance of a grid search, or manually, passing arguments when creating the initial model object. \n",
    "\n",
    "Tuning is very important, as when done badly it you can end up with a model that overfits. As a reminder, overfitting is when the model learns from the noise in the data, so when shown new data, it loses predictive power. \n",
    "\n",
    "Grid search is a very powerful method, as it systematically works through multiple combinations of parameter tunes, cross-validating as it goes to determine which tune gives the best performance.\n",
    "\n",
    "Each model used in this project, with the exception of the gaussian naive bayes, had hyperparamters programmatically tuned by a gridsearch, optimized for recall. \n",
    "\n",
    "##### Model Evaluation\n",
    "When building a classification model, accuracy may not always be the best metric to use when validating a model, especially if you have an imbalanced target class. In this case, we do have an imbalanced target class, with only 18 poi out of 141 samples. This is where recall and precision come in. \n",
    "\n",
    "Recall is the probability that algorithm correctly ids class provided that the class is the predicted class, in this case classifies all poi's correctly. \n",
    "Precision is the rate of guessing the target class, given that it actually is the target class. In this case it is the rate of correctly guessing a poi. \n",
    "\n",
    "The goal of this project is to obtain a model with precision and recall metrics both above 0.3. \n",
    "\n",
    "##### Validation\n",
    "Model validation is important, as when done right it prevents overfitting and more robust evaluation metrics. One way to do this for example, is to split the data into a train and test set. This ensures that you are holding out new data to test your model on. Another method is to randomly take k number of random of samples, train your model on each, and then average performance. This is k-fold cross validation. \n",
    "\n",
    "Due to the small size of the dataset (and target class), we want a strategy that makes the most of the data. This means the kfold strategy makes sense here. However, want to preserve the percentage of the target class as well, so there aren't any folds with 1 or 2 poi and some with 10. \n",
    "\n",
    "The script used in this project uses stratified shuffle split cross validation. This method accomplishes both the goals above, returning stratified randomized folds, while preserving the percentage of samples for each class.\n",
    "\n",
    "### Results\n",
    "\n",
    "#### Best Model\n",
    "The best results came from using an AdaBoost Classifier, with learning rate, algorithm, and number of estimators tuned by a gridsearch. The final hyperparameters were: \n",
    "\n",
    "    - a learning rate of 1 \n",
    "    - 35 estimators\n",
    "    - SAMME.R algorithm"
   ]
  },
  {
   "cell_type": "markdown",
   "metadata": {},
   "source": [
    "    AdaBoostClassifier(algorithm='SAMME.R', base_estimator=None, learning_rate=1,\n",
    "              n_estimators=35, random_state=None)\n",
    "\n",
    "    Accuracy: 0.88040\tPrecision: 0.56527\tRecall: 0.44600\tF1: 0.49860\tF2: 0.46565\n",
    "\tTotal predictions: 15000\tTrue positives:  892\tFalse positives:  686\tFalse negatives: 1108\tTrue negatives: 12314"
   ]
  },
  {
   "cell_type": "markdown",
   "metadata": {},
   "source": [
    "With 88% accuracy, and precision and recall both above 0.3, we have a winner.\n",
    "\n",
    "The model was right 88% of the time, and when it guessed someone was a person of interest, it was right slightly less than half the time (45%). It was better, however, at identifying non persons of interst, with correct negative predictions at 91.7%. \n",
    "\n",
    "If used, this model could predict whether someone isn't a POI at a much higher rate than predicting if someone is a POI. "
   ]
  },
  {
   "cell_type": "code",
   "execution_count": 115,
   "metadata": {
    "collapsed": false
   },
   "outputs": [
    {
     "name": "stdout",
     "output_type": "stream",
     "text": [
      "('Rate Identified non-poi: ', 0.917)\n"
     ]
    }
   ],
   "source": [
    "sensitivity = round(1 - (1108./(1108+12314)),3)\n",
    "print('Rate Identified non-poi: ',sensitivity)"
   ]
  },
  {
   "cell_type": "markdown",
   "metadata": {},
   "source": [
    "#### Other Models:\n",
    "\n",
    "I tested 3 other models, each with the chosen 10 k-best features.\n",
    "\n",
    "Initially I used a Gaussian Naive Bayes Model, but the precision and recall were too low for this exercise, barely missing the desired cutoff of 0.3:"
   ]
  },
  {
   "cell_type": "markdown",
   "metadata": {},
   "source": [
    "    GaussianNB(priors=None)\n",
    "\n",
    "\tAccuracy: 0.79500\tPrecision: 0.29142\tRecall: 0.37550\tF1: 0.32816\tF2: 0.35502\n",
    "\tTotal predictions: 15000\tTrue positives:  751\tFalse positives: 1826\tFalse negatives: 1249\tTrue negatives: 11174\n"
   ]
  },
  {
   "cell_type": "markdown",
   "metadata": {
    "collapsed": false
   },
   "source": [
    "Next, I used a Random Forest Classifier. I tuned the max_depth, max_features, min_samples_split, and n_estimators by a gridsearch for recall. While the accuracy was higher than the Naive Bayes, it had less than great results for recall:"
   ]
  },
  {
   "cell_type": "markdown",
   "metadata": {},
   "source": [
    "    RandomForestClassifier(bootstrap=True, class_weight=None, criterion='gini',\n",
    "                max_depth=15, max_features=5, max_leaf_nodes=None,\n",
    "                min_impurity_split=1e-07, min_samples_leaf=1,\n",
    "                min_samples_split=15, min_weight_fraction_leaf=0.0,\n",
    "                n_estimators=10, n_jobs=1, oob_score=False, random_state=None,\n",
    "                verbose=0, warm_start=False)\n",
    "\n",
    "    Accuracy: 0.86007\tPrecision: 0.43391\tRecall: 0.16250\tF1: 0.23645\tF2: 0.18574\n",
    "\tTotal predictions: 15000\tTrue positives:  325\tFalse positives:  424\tFalse negatives: 1675\tTrue negatives: 12576"
   ]
  },
  {
   "cell_type": "markdown",
   "metadata": {},
   "source": [
    "I next used a Logistic Regression, tuned for C (the regularization parameter):\n",
    "\n",
    "    LogisticRegression(C=10, class_weight=None, dual=False, fit_intercept=True,\n",
    "              intercept_scaling=1, max_iter=100, multi_class='ovr', n_jobs=1,\n",
    "              penalty='l2', random_state=None, solver='liblinear', tol=0.0001,\n",
    "              verbose=0, warm_start=False)\n",
    "\n",
    "\tAccuracy: 0.67673\tPrecision: 0.07312\tRecall: 0.12200\tF1: 0.09144\tF2: 0.10761\n",
    "\tTotal predictions: 15000\tTrue positives:  244\tFalse positives: 3093\tFalse negatives: 1756\tTrue negatives: 9907"
   ]
  },
  {
   "cell_type": "markdown",
   "metadata": {},
   "source": [
    "## Conclusion\n",
    "\n",
    "An AdaBoost Classifier was built that was able to predict a person of interest in the Enron dataset, with 88% accuracy, 56.5% precision, and 44.6% recall.\n",
    "\n",
    "We were able to predict whether an employee was a person of interest to an extent. The model was right 88% of the time, but when it guessed someone was a person of interest, it was right slightly less than half the time (45%). "
   ]
  },
  {
   "cell_type": "markdown",
   "metadata": {},
   "source": [
    "## References\n",
    "\n",
    "Scikit learn documentation:\n",
    "http://scikit-learn.org/\n",
    "\n",
    "How to create a custom legend in matplotlib\n",
    "https://matplotlib.org/users/legend_guide.html\n",
    "\n",
    "Ideas for tuning a decision tree:\n",
    "http://chrisstrelioff.ws/sandbox/2015/06/25/decision_trees_in_python_again_cross_validation.html\n",
    "\n",
    "Some tips on how to tune gridsearch for scores from:\n",
    "https://www.kaggle.com/kevinarvai/fine-tuning-a-classifier-in-scikit-learn\n",
    "\n",
    "Documentary on Enron which provided backstory and useful information:\n",
    "https://en.wikipedia.org/wiki/Enron:_The_Smartest_Guys_in_the_Room\n",
    "\n",
    "Udacity's Data Analyst nanodegree program for supporting code and lessons:\n",
    "https://www.udacity.com/course/data-analyst-nanodegree--nd002"
   ]
  },
  {
   "cell_type": "code",
   "execution_count": null,
   "metadata": {
    "collapsed": true
   },
   "outputs": [],
   "source": []
  }
 ],
 "metadata": {
  "kernelspec": {
   "display_name": "Python 2",
   "language": "python",
   "name": "python2"
  },
  "language_info": {
   "codemirror_mode": {
    "name": "ipython",
    "version": 2
   },
   "file_extension": ".py",
   "mimetype": "text/x-python",
   "name": "python",
   "nbconvert_exporter": "python",
   "pygments_lexer": "ipython2",
   "version": "2.7.13"
  }
 },
 "nbformat": 4,
 "nbformat_minor": 2
}
