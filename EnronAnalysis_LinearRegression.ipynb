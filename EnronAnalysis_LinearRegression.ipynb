{
 "cells": [
  {
   "cell_type": "markdown",
   "metadata": {},
   "source": [
    "# Enron Dataset Analysis and Exploration"
   ]
  },
  {
   "cell_type": "markdown",
   "metadata": {},
   "source": [
    "## Project Goals:\n",
    "\n",
    "### 1. Model POI ( persons of interest ) \n",
    "### 2. Build a Linear Regression Model to Predict Bonuses from Monetary Variables\n",
    "\n",
    "How define POI?\n",
    "\n",
    "- Indicted\n",
    "- Settled without admitting guilt\n",
    "- Made deal and prosecuted"
   ]
  },
  {
   "cell_type": "markdown",
   "metadata": {},
   "source": [
    "The dataset was obtained via the Carnegie Mellon page: https://www.cs.cmu.edu/~enron/"
   ]
  },
  {
   "cell_type": "markdown",
   "metadata": {},
   "source": [
    "### Accuracy vs. Training Set Size\n",
    "\n",
    "- What is the optimal amount to split data? Depends on sample size\n",
    "- Curve is exponential, and plateaus\n",
    "- Not know where is the right trade-off, but more data leads to better performance of model"
   ]
  },
  {
   "cell_type": "markdown",
   "metadata": {
    "collapsed": true
   },
   "source": [
    "### Review: Data Types\n",
    "\n",
    "- Numeric: numerical values (numbers)\n",
    "\n",
    "- Categorical: discrete values, limited number\n",
    "\n",
    "- Time-series: date, timestamp\n",
    "\n",
    "- Text: words"
   ]
  },
  {
   "cell_type": "code",
   "execution_count": 4,
   "metadata": {
    "collapsed": true
   },
   "outputs": [],
   "source": [
    "import pandas as pd\n",
    "import numpy as np\n",
    "import pickle"
   ]
  },
  {
   "cell_type": "markdown",
   "metadata": {},
   "source": [
    "## 1. Loading and Viewing the Data"
   ]
  },
  {
   "cell_type": "code",
   "execution_count": 5,
   "metadata": {
    "collapsed": false
   },
   "outputs": [],
   "source": [
    "# data from pickle, gets into a dictionary format\n",
    "enron_data = pickle.load(open(\"../final_project/final_project_dataset.pkl\", \"r\"))\n",
    "\n",
    "#getting it into a pandas df\n",
    "enron_df = pd.DataFrame.from_dict(enron_data,orient='index')\n"
   ]
  },
  {
   "cell_type": "code",
   "execution_count": 6,
   "metadata": {
    "collapsed": false
   },
   "outputs": [
    {
     "data": {
      "text/html": [
       "<div>\n",
       "<table border=\"1\" class=\"dataframe\">\n",
       "  <thead>\n",
       "    <tr style=\"text-align: right;\">\n",
       "      <th></th>\n",
       "      <th>salary</th>\n",
       "      <th>to_messages</th>\n",
       "      <th>deferral_payments</th>\n",
       "      <th>total_payments</th>\n",
       "      <th>exercised_stock_options</th>\n",
       "      <th>bonus</th>\n",
       "      <th>restricted_stock</th>\n",
       "      <th>shared_receipt_with_poi</th>\n",
       "      <th>restricted_stock_deferred</th>\n",
       "      <th>total_stock_value</th>\n",
       "      <th>...</th>\n",
       "      <th>loan_advances</th>\n",
       "      <th>from_messages</th>\n",
       "      <th>other</th>\n",
       "      <th>from_this_person_to_poi</th>\n",
       "      <th>poi</th>\n",
       "      <th>director_fees</th>\n",
       "      <th>deferred_income</th>\n",
       "      <th>long_term_incentive</th>\n",
       "      <th>email_address</th>\n",
       "      <th>from_poi_to_this_person</th>\n",
       "    </tr>\n",
       "  </thead>\n",
       "  <tbody>\n",
       "    <tr>\n",
       "      <th>ALLEN PHILLIP K</th>\n",
       "      <td>201955</td>\n",
       "      <td>2902</td>\n",
       "      <td>2869717</td>\n",
       "      <td>4484442</td>\n",
       "      <td>1729541</td>\n",
       "      <td>4175000</td>\n",
       "      <td>126027</td>\n",
       "      <td>1407</td>\n",
       "      <td>-126027</td>\n",
       "      <td>1729541</td>\n",
       "      <td>...</td>\n",
       "      <td>NaN</td>\n",
       "      <td>2195</td>\n",
       "      <td>152</td>\n",
       "      <td>65</td>\n",
       "      <td>False</td>\n",
       "      <td>NaN</td>\n",
       "      <td>-3081055</td>\n",
       "      <td>304805</td>\n",
       "      <td>phillip.allen@enron.com</td>\n",
       "      <td>47</td>\n",
       "    </tr>\n",
       "    <tr>\n",
       "      <th>BADUM JAMES P</th>\n",
       "      <td>NaN</td>\n",
       "      <td>NaN</td>\n",
       "      <td>178980</td>\n",
       "      <td>182466</td>\n",
       "      <td>257817</td>\n",
       "      <td>NaN</td>\n",
       "      <td>NaN</td>\n",
       "      <td>NaN</td>\n",
       "      <td>NaN</td>\n",
       "      <td>257817</td>\n",
       "      <td>...</td>\n",
       "      <td>NaN</td>\n",
       "      <td>NaN</td>\n",
       "      <td>NaN</td>\n",
       "      <td>NaN</td>\n",
       "      <td>False</td>\n",
       "      <td>NaN</td>\n",
       "      <td>NaN</td>\n",
       "      <td>NaN</td>\n",
       "      <td>NaN</td>\n",
       "      <td>NaN</td>\n",
       "    </tr>\n",
       "    <tr>\n",
       "      <th>BANNANTINE JAMES M</th>\n",
       "      <td>477</td>\n",
       "      <td>566</td>\n",
       "      <td>NaN</td>\n",
       "      <td>916197</td>\n",
       "      <td>4046157</td>\n",
       "      <td>NaN</td>\n",
       "      <td>1757552</td>\n",
       "      <td>465</td>\n",
       "      <td>-560222</td>\n",
       "      <td>5243487</td>\n",
       "      <td>...</td>\n",
       "      <td>NaN</td>\n",
       "      <td>29</td>\n",
       "      <td>864523</td>\n",
       "      <td>0</td>\n",
       "      <td>False</td>\n",
       "      <td>NaN</td>\n",
       "      <td>-5104</td>\n",
       "      <td>NaN</td>\n",
       "      <td>james.bannantine@enron.com</td>\n",
       "      <td>39</td>\n",
       "    </tr>\n",
       "    <tr>\n",
       "      <th>BAXTER JOHN C</th>\n",
       "      <td>267102</td>\n",
       "      <td>NaN</td>\n",
       "      <td>1295738</td>\n",
       "      <td>5634343</td>\n",
       "      <td>6680544</td>\n",
       "      <td>1200000</td>\n",
       "      <td>3942714</td>\n",
       "      <td>NaN</td>\n",
       "      <td>NaN</td>\n",
       "      <td>10623258</td>\n",
       "      <td>...</td>\n",
       "      <td>NaN</td>\n",
       "      <td>NaN</td>\n",
       "      <td>2660303</td>\n",
       "      <td>NaN</td>\n",
       "      <td>False</td>\n",
       "      <td>NaN</td>\n",
       "      <td>-1386055</td>\n",
       "      <td>1586055</td>\n",
       "      <td>NaN</td>\n",
       "      <td>NaN</td>\n",
       "    </tr>\n",
       "    <tr>\n",
       "      <th>BAY FRANKLIN R</th>\n",
       "      <td>239671</td>\n",
       "      <td>NaN</td>\n",
       "      <td>260455</td>\n",
       "      <td>827696</td>\n",
       "      <td>NaN</td>\n",
       "      <td>400000</td>\n",
       "      <td>145796</td>\n",
       "      <td>NaN</td>\n",
       "      <td>-82782</td>\n",
       "      <td>63014</td>\n",
       "      <td>...</td>\n",
       "      <td>NaN</td>\n",
       "      <td>NaN</td>\n",
       "      <td>69</td>\n",
       "      <td>NaN</td>\n",
       "      <td>False</td>\n",
       "      <td>NaN</td>\n",
       "      <td>-201641</td>\n",
       "      <td>NaN</td>\n",
       "      <td>frank.bay@enron.com</td>\n",
       "      <td>NaN</td>\n",
       "    </tr>\n",
       "  </tbody>\n",
       "</table>\n",
       "<p>5 rows × 21 columns</p>\n",
       "</div>"
      ],
      "text/plain": [
       "                    salary to_messages deferral_payments total_payments  \\\n",
       "ALLEN PHILLIP K     201955        2902           2869717        4484442   \n",
       "BADUM JAMES P          NaN         NaN            178980         182466   \n",
       "BANNANTINE JAMES M     477         566               NaN         916197   \n",
       "BAXTER JOHN C       267102         NaN           1295738        5634343   \n",
       "BAY FRANKLIN R      239671         NaN            260455         827696   \n",
       "\n",
       "                   exercised_stock_options    bonus restricted_stock  \\\n",
       "ALLEN PHILLIP K                    1729541  4175000           126027   \n",
       "BADUM JAMES P                       257817      NaN              NaN   \n",
       "BANNANTINE JAMES M                 4046157      NaN          1757552   \n",
       "BAXTER JOHN C                      6680544  1200000          3942714   \n",
       "BAY FRANKLIN R                         NaN   400000           145796   \n",
       "\n",
       "                   shared_receipt_with_poi restricted_stock_deferred  \\\n",
       "ALLEN PHILLIP K                       1407                   -126027   \n",
       "BADUM JAMES P                          NaN                       NaN   \n",
       "BANNANTINE JAMES M                     465                   -560222   \n",
       "BAXTER JOHN C                          NaN                       NaN   \n",
       "BAY FRANKLIN R                         NaN                    -82782   \n",
       "\n",
       "                   total_stock_value           ...           loan_advances  \\\n",
       "ALLEN PHILLIP K              1729541           ...                     NaN   \n",
       "BADUM JAMES P                 257817           ...                     NaN   \n",
       "BANNANTINE JAMES M           5243487           ...                     NaN   \n",
       "BAXTER JOHN C               10623258           ...                     NaN   \n",
       "BAY FRANKLIN R                 63014           ...                     NaN   \n",
       "\n",
       "                   from_messages    other from_this_person_to_poi    poi  \\\n",
       "ALLEN PHILLIP K             2195      152                      65  False   \n",
       "BADUM JAMES P                NaN      NaN                     NaN  False   \n",
       "BANNANTINE JAMES M            29   864523                       0  False   \n",
       "BAXTER JOHN C                NaN  2660303                     NaN  False   \n",
       "BAY FRANKLIN R               NaN       69                     NaN  False   \n",
       "\n",
       "                   director_fees deferred_income long_term_incentive  \\\n",
       "ALLEN PHILLIP K              NaN        -3081055              304805   \n",
       "BADUM JAMES P                NaN             NaN                 NaN   \n",
       "BANNANTINE JAMES M           NaN           -5104                 NaN   \n",
       "BAXTER JOHN C                NaN        -1386055             1586055   \n",
       "BAY FRANKLIN R               NaN         -201641                 NaN   \n",
       "\n",
       "                                 email_address from_poi_to_this_person  \n",
       "ALLEN PHILLIP K        phillip.allen@enron.com                      47  \n",
       "BADUM JAMES P                              NaN                     NaN  \n",
       "BANNANTINE JAMES M  james.bannantine@enron.com                      39  \n",
       "BAXTER JOHN C                              NaN                     NaN  \n",
       "BAY FRANKLIN R             frank.bay@enron.com                     NaN  \n",
       "\n",
       "[5 rows x 21 columns]"
      ]
     },
     "execution_count": 6,
     "metadata": {},
     "output_type": "execute_result"
    }
   ],
   "source": [
    "enron_df.head()"
   ]
  },
  {
   "cell_type": "code",
   "execution_count": 7,
   "metadata": {
    "collapsed": false
   },
   "outputs": [
    {
     "name": "stdout",
     "output_type": "stream",
     "text": [
      "<class 'pandas.core.frame.DataFrame'>\n",
      "Index: 146 entries, ALLEN PHILLIP K to YEAP SOON\n",
      "Data columns (total 21 columns):\n",
      "salary                       146 non-null object\n",
      "to_messages                  146 non-null object\n",
      "deferral_payments            146 non-null object\n",
      "total_payments               146 non-null object\n",
      "exercised_stock_options      146 non-null object\n",
      "bonus                        146 non-null object\n",
      "restricted_stock             146 non-null object\n",
      "shared_receipt_with_poi      146 non-null object\n",
      "restricted_stock_deferred    146 non-null object\n",
      "total_stock_value            146 non-null object\n",
      "expenses                     146 non-null object\n",
      "loan_advances                146 non-null object\n",
      "from_messages                146 non-null object\n",
      "other                        146 non-null object\n",
      "from_this_person_to_poi      146 non-null object\n",
      "poi                          146 non-null bool\n",
      "director_fees                146 non-null object\n",
      "deferred_income              146 non-null object\n",
      "long_term_incentive          146 non-null object\n",
      "email_address                146 non-null object\n",
      "from_poi_to_this_person      146 non-null object\n",
      "dtypes: bool(1), object(20)\n",
      "memory usage: 24.1+ KB\n"
     ]
    }
   ],
   "source": [
    "enron_df.info()"
   ]
  },
  {
   "cell_type": "markdown",
   "metadata": {},
   "source": [
    "### Dataset Info:\n",
    "\n",
    "- 21 features\n",
    "- 146 rows\n",
    "- Null values are treated as 'NaN' in strings.\n",
    "\n",
    "As NaNs are strings, how many are there for each column?"
   ]
  },
  {
   "cell_type": "markdown",
   "metadata": {},
   "source": [
    "### Find the number and percentage of non-NaN values for each column\n"
   ]
  },
  {
   "cell_type": "code",
   "execution_count": 40,
   "metadata": {
    "collapsed": false
   },
   "outputs": [
    {
     "name": "stdout",
     "output_type": "stream",
     "text": [
      "salary 95 0.65\n",
      "to_messages 86 0.59\n",
      "deferral_payments 39 0.27\n",
      "total_payments 125 0.86\n",
      "exercised_stock_options 102 0.7\n",
      "bonus 82 0.56\n",
      "restricted_stock 110 0.75\n",
      "shared_receipt_with_poi 86 0.59\n",
      "restricted_stock_deferred 18 0.12\n",
      "total_stock_value 126 0.86\n",
      "expenses 95 0.65\n",
      "loan_advances 4 0.03\n",
      "from_messages 86 0.59\n",
      "other 93 0.64\n",
      "from_this_person_to_poi 86 0.59\n",
      "director_fees 17 0.12\n",
      "deferred_income 49 0.34\n",
      "long_term_incentive 66 0.45\n",
      "email_address 111 0.76\n",
      "from_poi_to_this_person 86 0.59\n"
     ]
    }
   ],
   "source": [
    "for col in enron_df.columns:\n",
    "    if str(enron_df[col].dtype) != 'bool':\n",
    "        print col,(enron_df[enron_df[col] !='NaN'][col].count()) \\\n",
    "        ,round((enron_df[enron_df[col] !='NaN'][col].count())/ \\\n",
    "        (float(enron_df.shape[0])),2)"
   ]
  },
  {
   "cell_type": "code",
   "execution_count": 17,
   "metadata": {
    "collapsed": false
   },
   "outputs": [
    {
     "name": "stdout",
     "output_type": "stream",
     "text": [
      "95\n",
      "111\n"
     ]
    }
   ],
   "source": [
    "print(enron_df[enron_df['salary']!=\"NaN\"]['salary'].count())\n",
    "print(enron_df[enron_df['email_address'] != 'NaN']['email_address'].count())\n",
    "enron_df[]"
   ]
  },
  {
   "cell_type": "markdown",
   "metadata": {},
   "source": [
    "# 1. Querying the Dataset"
   ]
  },
  {
   "cell_type": "markdown",
   "metadata": {},
   "source": [
    "### How many people are there in this dataset?\n"
   ]
  },
  {
   "cell_type": "code",
   "execution_count": 8,
   "metadata": {
    "collapsed": false
   },
   "outputs": [
    {
     "data": {
      "text/plain": [
       "146"
      ]
     },
     "execution_count": 8,
     "metadata": {},
     "output_type": "execute_result"
    }
   ],
   "source": [
    "len(enron_data.keys())"
   ]
  },
  {
   "cell_type": "markdown",
   "metadata": {},
   "source": [
    "### How many features per person?\n"
   ]
  },
  {
   "cell_type": "code",
   "execution_count": 9,
   "metadata": {
    "collapsed": false
   },
   "outputs": [
    {
     "name": "stdout",
     "output_type": "stream",
     "text": [
      "('Number of features/person:', 21)\n"
     ]
    }
   ],
   "source": [
    "print(\"Number of features/person:\",len(enron_data.values()[1]))\n"
   ]
  },
  {
   "cell_type": "markdown",
   "metadata": {},
   "source": [
    "### How many Persons of Interest are there in this dataset?"
   ]
  },
  {
   "cell_type": "code",
   "execution_count": 10,
   "metadata": {
    "collapsed": false
   },
   "outputs": [
    {
     "name": "stdout",
     "output_type": "stream",
     "text": [
      "('number of poi: ', 18)\n"
     ]
    }
   ],
   "source": [
    "print(\"number of poi: \",enron_df[enron_df['poi']==True]['poi'].count())"
   ]
  },
  {
   "cell_type": "markdown",
   "metadata": {},
   "source": [
    "### What is the total stock value of James Prentice?"
   ]
  },
  {
   "cell_type": "code",
   "execution_count": 11,
   "metadata": {
    "collapsed": false
   },
   "outputs": [
    {
     "name": "stdout",
     "output_type": "stream",
     "text": [
      "('Stock of Prentice, James:', PRENTICE JAMES    1095040\n",
      "Name: total_stock_value, dtype: object)\n"
     ]
    }
   ],
   "source": [
    "print(\"Stock of Prentice, James:\",enron_df[enron_df.index=='PRENTICE JAMES']['total_stock_value'])"
   ]
  },
  {
   "cell_type": "markdown",
   "metadata": {},
   "source": [
    "### How many emails did W. Colwell send to POI?"
   ]
  },
  {
   "cell_type": "code",
   "execution_count": 13,
   "metadata": {
    "collapsed": false
   },
   "outputs": [
    {
     "name": "stdout",
     "output_type": "stream",
     "text": [
      "COLWELL WESLEY    11\n",
      "Name: from_this_person_to_poi, dtype: object\n"
     ]
    }
   ],
   "source": [
    "print(enron_df[enron_df.index == \"COLWELL WESLEY\"]['from_this_person_to_poi'])"
   ]
  },
  {
   "cell_type": "markdown",
   "metadata": {},
   "source": [
    "### What is the amount of exercised stock options for Jeffrey K Skilling?"
   ]
  },
  {
   "cell_type": "code",
   "execution_count": 14,
   "metadata": {
    "collapsed": false
   },
   "outputs": [
    {
     "name": "stdout",
     "output_type": "stream",
     "text": [
      "SKILLING JEFFREY K    19250000\n",
      "Name: exercised_stock_options, dtype: object\n"
     ]
    }
   ],
   "source": [
    "print(enron_df[enron_df.index == \"SKILLING JEFFREY K\"]['exercised_stock_options'])"
   ]
  },
  {
   "cell_type": "markdown",
   "metadata": {},
   "source": [
    "### Who between Lay, Fastow, and Skilling took home the most money?"
   ]
  },
  {
   "cell_type": "code",
   "execution_count": 15,
   "metadata": {
    "collapsed": false
   },
   "outputs": [
    {
     "name": "stdout",
     "output_type": "stream",
     "text": [
      "SKILLING JEFFREY K    8682716\n",
      "Name: total_payments, dtype: object\n",
      "LAY KENNETH L    103559793\n",
      "Name: total_payments, dtype: object\n",
      "FASTOW ANDREW S    2424083\n",
      "Name: total_payments, dtype: object\n"
     ]
    }
   ],
   "source": [
    "print(enron_df[enron_df.index == \"SKILLING JEFFREY K\"]['total_payments'])\n",
    "print(enron_df[enron_df.index == \"LAY KENNETH L\"]['total_payments'])\n",
    "print(enron_df[enron_df.index == \"FASTOW ANDREW S\"]['total_payments'])\n"
   ]
  },
  {
   "cell_type": "markdown",
   "metadata": {},
   "source": [
    "Kenneth lay took home the most money... by a wide margin."
   ]
  },
  {
   "cell_type": "code",
   "execution_count": 43,
   "metadata": {
    "collapsed": true
   },
   "outputs": [],
   "source": [
    "import seaborn as sns\n",
    "import matplotlib.pyplot as plt\n",
    "%matplotlib inline"
   ]
  },
  {
   "cell_type": "code",
   "execution_count": 275,
   "metadata": {
    "collapsed": false
   },
   "outputs": [
    {
     "data": {
      "text/plain": [
       "<matplotlib.collections.PathCollection at 0x11e641d50>"
      ]
     },
     "execution_count": 275,
     "metadata": {},
     "output_type": "execute_result"
    },
    {
     "data": {
      "image/png": "[encoded data removed]",
      "text/plain": [
       "<matplotlib.figure.Figure at 0x11fcc0150>"
      ]
     },
     "metadata": {},
     "output_type": "display_data"
    }
   ],
   "source": [
    "plt.scatter(x= enron_df['long_term_incentive'],y= enron_df['bonus'],c=['seagreen'])\n",
    "#plt.xlim([0,1250000])\n",
    "#plt.ylim([0,6000000])"
   ]
  },
  {
   "cell_type": "code",
   "execution_count": 274,
   "metadata": {
    "collapsed": false
   },
   "outputs": [],
   "source": [
    "enron_df = enron_df[enron_df['bonus'] < enron_df['bonus'].max()]"
   ]
  },
  {
   "cell_type": "markdown",
   "metadata": {},
   "source": [
    "# 2. Linear Regression- using Salary & Long Term Incentive to predict Bonus"
   ]
  },
  {
   "cell_type": "markdown",
   "metadata": {},
   "source": [
    "I will use a simple linear regression using the Salary and long term incentive variables to predict employee bonuses."
   ]
  },
  {
   "cell_type": "code",
   "execution_count": 70,
   "metadata": {
    "collapsed": false
   },
   "outputs": [],
   "source": [
    "from sklearn.linear_model import LinearRegression\n",
    "from sklearn.model_selection import train_test_split"
   ]
  },
  {
   "cell_type": "markdown",
   "metadata": {},
   "source": [
    "#### Cleaning feature columns "
   ]
  },
  {
   "cell_type": "code",
   "execution_count": null,
   "metadata": {
    "collapsed": true
   },
   "outputs": [],
   "source": [
    "enron_df['salary'].replace('NaN',0,inplace=True)\n",
    "enron_df['bonus'].replace('NaN',0,inplace=True)\n",
    "enron_df['long_term_incentive'].replace('NaN',0,inplace=True)"
   ]
  },
  {
   "cell_type": "markdown",
   "metadata": {},
   "source": [
    "#### Reshaping the data for train test split"
   ]
  },
  {
   "cell_type": "code",
   "execution_count": 276,
   "metadata": {
    "collapsed": false
   },
   "outputs": [],
   "source": [
    "features = enron_df[['salary','long_term_incentive']]\n",
    "target = enron_df['bonus']\n",
    "#features = features.values.reshape(146,2)\n",
    "#target = target.values.reshape(146,1)"
   ]
  },
  {
   "cell_type": "markdown",
   "metadata": {},
   "source": [
    "#### Splitting the Data"
   ]
  },
  {
   "cell_type": "code",
   "execution_count": 347,
   "metadata": {
    "collapsed": true
   },
   "outputs": [],
   "source": [
    "feature_train, feature_test, target_train, target_test = train_test_split(features,\n",
    "                               target, \n",
    "                               test_size=0.5, \n",
    "                               random_state=42)\n"
   ]
  },
  {
   "cell_type": "markdown",
   "metadata": {},
   "source": [
    "#### Importing and fitting the model"
   ]
  },
  {
   "cell_type": "code",
   "execution_count": 348,
   "metadata": {
    "collapsed": false
   },
   "outputs": [
    {
     "data": {
      "text/plain": [
       "LinearRegression(copy_X=True, fit_intercept=True, n_jobs=1, normalize=False)"
      ]
     },
     "execution_count": 348,
     "metadata": {},
     "output_type": "execute_result"
    }
   ],
   "source": [
    "from sklearn import linear_model\n",
    "\n",
    "reg = linear_model.LinearRegression()\n",
    "\n",
    "reg.fit(feature_test,target_test)"
   ]
  },
  {
   "cell_type": "markdown",
   "metadata": {},
   "source": [
    "#### Getting predictions and model info"
   ]
  },
  {
   "cell_type": "code",
   "execution_count": 355,
   "metadata": {
    "collapsed": false
   },
   "outputs": [
    {
     "name": "stdout",
     "output_type": "stream",
     "text": [
      "('slope: ', array([ 1.64381626,  0.99108813]))\n",
      "('intercept', 38920.685074062669)\n"
     ]
    }
   ],
   "source": [
    "pred = reg.predict(feature_test)\n",
    "\n",
    "print('slope: ',reg.coef_)\n",
    "print('intercept',reg.intercept_)\n"
   ]
  },
  {
   "cell_type": "markdown",
   "metadata": {},
   "source": [
    "### Model Evaluation"
   ]
  },
  {
   "cell_type": "code",
   "execution_count": 359,
   "metadata": {
    "collapsed": false
   },
   "outputs": [
    {
     "name": "stdout",
     "output_type": "stream",
     "text": [
      "('R^2 of test line:', 0.3883249461374797)\n",
      "('R^2 of train line:', 0.32634135478945703)\n"
     ]
    }
   ],
   "source": [
    "print('R^2 of test line:',reg.score(feature_test,target_test))\n",
    "print('R^2 of train line:',reg.score(feature_train,target_train))"
   ]
  },
  {
   "cell_type": "code",
   "execution_count": 291,
   "metadata": {
    "collapsed": false
   },
   "outputs": [],
   "source": [
    "scores = pd.DataFrame(data=[reg.score(feature_train,target_train),\n",
    "                                     reg.score(feature_test,target_test)],\n",
    "                     columns=['score'])\n",
    "scores['position'] = ['train','test']"
   ]
  },
  {
   "cell_type": "markdown",
   "metadata": {},
   "source": [
    "Data is now in a format to analyze train and test performance."
   ]
  },
  {
   "cell_type": "code",
   "execution_count": 292,
   "metadata": {
    "collapsed": false
   },
   "outputs": [
    {
     "data": {
      "text/html": [
       "<div>\n",
       "<table border=\"1\" class=\"dataframe\">\n",
       "  <thead>\n",
       "    <tr style=\"text-align: right;\">\n",
       "      <th></th>\n",
       "      <th>score</th>\n",
       "      <th>position</th>\n",
       "    </tr>\n",
       "  </thead>\n",
       "  <tbody>\n",
       "    <tr>\n",
       "      <th>0</th>\n",
       "      <td>0.326341</td>\n",
       "      <td>train</td>\n",
       "    </tr>\n",
       "    <tr>\n",
       "      <th>1</th>\n",
       "      <td>0.388325</td>\n",
       "      <td>test</td>\n",
       "    </tr>\n",
       "  </tbody>\n",
       "</table>\n",
       "</div>"
      ],
      "text/plain": [
       "      score position\n",
       "0  0.326341    train\n",
       "1  0.388325     test"
      ]
     },
     "execution_count": 292,
     "metadata": {},
     "output_type": "execute_result"
    }
   ],
   "source": [
    "scores"
   ]
  },
  {
   "cell_type": "code",
   "execution_count": 360,
   "metadata": {
    "collapsed": false
   },
   "outputs": [
    {
     "data": {
      "text/plain": [
       "(0, 1)"
      ]
     },
     "execution_count": 360,
     "metadata": {},
     "output_type": "execute_result"
    },
    {
     "data": {
      "image/png": "[encoded data removed]",
      "text/plain": [
       "<matplotlib.figure.Figure at 0x120cbb210>"
      ]
     },
     "metadata": {},
     "output_type": "display_data"
    }
   ],
   "source": [
    "sns.pointplot(y=scores['score'],x=scores['position'])\n",
    "plt.ylim([0,1])"
   ]
  },
  {
   "cell_type": "markdown",
   "metadata": {},
   "source": [
    "The model did not do very well with the training set, but did better when testing, from 32.6% to 38.8%. While not a high-performance model, the robustness suggests there is some evidence that the variables included in this modeling have some predictive power on bonuses."
   ]
  },
  {
   "cell_type": "code",
   "execution_count": 357,
   "metadata": {
    "collapsed": false
   },
   "outputs": [
    {
     "name": "stdout",
     "output_type": "stream",
     "text": [
      "817387555505.0\n"
     ]
    }
   ],
   "source": [
    "from sklearn.metrics import mean_squared_error\n",
    "\n",
    "print(mean_squared_error(target_test,pred))"
   ]
  },
  {
   "cell_type": "markdown",
   "metadata": {},
   "source": [
    "There is a very large mean squared error in the model."
   ]
  },
  {
   "cell_type": "markdown",
   "metadata": {},
   "source": [
    "### Visualizing Model\n",
    "\n",
    "#### 3-D (multi-linear)"
   ]
  },
  {
   "cell_type": "code",
   "execution_count": 325,
   "metadata": {
    "collapsed": false
   },
   "outputs": [
    {
     "name": "stdout",
     "output_type": "stream",
     "text": [
      "((72, 72), (72, 72), (72,))\n"
     ]
    }
   ],
   "source": [
    "print(X.shape,Y.shape, pred.shape)\n",
    "#pred.reshape(72,72)"
   ]
  },
  {
   "cell_type": "code",
   "execution_count": 392,
   "metadata": {
    "collapsed": false
   },
   "outputs": [
    {
     "data": {
      "text/plain": [
       "<matplotlib.text.Text at 0x1299c0390>"
      ]
     },
     "execution_count": 392,
     "metadata": {},
     "output_type": "execute_result"
    },
    {
     "data": {
      "image/png": "[encoded data removed]",
      "text/plain": [
       "<matplotlib.figure.Figure at 0x1299863d0>"
      ]
     },
     "metadata": {},
     "output_type": "display_data"
    }
   ],
   "source": [
    "from mpl_toolkits.mplot3d import Axes3D\n",
    "from scipy.interpolate import griddata\n",
    "\n",
    "fig = plt.figure(figsize=(9,9))\n",
    "ax = fig.add_subplot(111, projection='3d')\n",
    "\n",
    "#plot feature train and test points\n",
    "ax.scatter(feature_test['salary'],feature_test['long_term_incentive'],\n",
    "           target_test,c='r', marker='o', alpha=0.5,label='test')\n",
    "\n",
    "ax.scatter(feature_train['salary'],feature_train['long_term_incentive'],\n",
    "           target_train,c='blue', marker='o', alpha=0.5,label = 'train')\n",
    "\n",
    "# create legend\n",
    "plt.legend(loc='upper left', numpoints=2, ncol=1, fontsize=16, bbox_to_anchor=(0.8, 0.99))\n",
    "plt.title(\"Linear Model Performance\",fontsize= 20)\n",
    "\n",
    "#creating vars for grid\n",
    "xi = np.linspace(feature_test['salary'].min(),\n",
    "                 feature_test['salary'].max()\n",
    "                 ,10)\n",
    "yi = np.linspace(feature_test['long_term_incentive'].min(),\n",
    "                 feature_test['long_term_incentive'].max()\n",
    "                 ,10)\n",
    "Z = griddata((feature_test['salary'],feature_test['long_term_incentive']),\n",
    "             pred, (xi[None,:], yi[:,None]), method = 'cubic')\n",
    "\n",
    "\n",
    "\n",
    "X, Y = np.meshgrid(feature_train['salary'], \n",
    "                   feature_train['long_term_incentive'])\n",
    "\n",
    "ax.plot_wireframe(X= xi,\n",
    "                Y = yi,\n",
    "                Z = Z,\n",
    "                  color='blue', \n",
    "                  alpha=0.25)\n",
    "\n",
    "#toggles view on plot\n",
    "ax.view_init(azim=65,elev=20)\n",
    "\n",
    "#tidying labels and format\n",
    "ax.set_xlabel('salary',labelpad=20)\n",
    "ax.set_ylabel('long_term_incentive',labelpad=20)\n",
    "ax.set_zlabel('bonus',labelpad=20)\n",
    "#ax.set_xlim([0,1000000])\n",
    "#ax.set_ylim([0,6000000])\n",
    "#ax.set_zlim([0,6000000])\n"
   ]
  },
  {
   "cell_type": "markdown",
   "metadata": {},
   "source": [
    "By visualizing the model we can see that the model misses a notable amount of true bonus values, values that could be considered outliers. However, it does net the majority of points inside it's net. Overall, we see decent performance. "
   ]
  },
  {
   "cell_type": "markdown",
   "metadata": {},
   "source": [
    "#### 2-D (single variable)"
   ]
  },
  {
   "cell_type": "code",
   "execution_count": 358,
   "metadata": {
    "collapsed": true
   },
   "outputs": [],
   "source": [
    "#plt.scatter(feature_test,target_test,c='r')\n",
    "#plt.scatter(feature_train,target_train,c='b')\n",
    "#plt.xlim([0,1250000])\n",
    "#plt.ylim([0,6000000])\n",
    "#plt.plot(feature_train, reg.predict(feature_train), color=\"b\")\n"
   ]
  },
  {
   "cell_type": "markdown",
   "metadata": {},
   "source": [
    "## Model: Conclusion\n",
    "\n",
    "While the model had low R^2 values, they were robust. The results suggest that further exploration and addition of the other features in the dataset to model will result in a higher-performance. The low, albiet robust performance of the simple multi-variable linear regression indicates that this might not be algorithm best suitable for modeling this problem, but does provide an indication that this dataset can be modeled with this goal in mind."
   ]
  },
  {
   "cell_type": "code",
   "execution_count": null,
   "metadata": {
    "collapsed": true
   },
   "outputs": [],
   "source": []
  }
 ],
 "metadata": {
  "kernelspec": {
   "display_name": "Python 2",
   "language": "python",
   "name": "python2"
  },
  "language_info": {
   "codemirror_mode": {
    "name": "ipython",
    "version": 2
   },
   "file_extension": ".py",
   "mimetype": "text/x-python",
   "name": "python",
   "nbconvert_exporter": "python",
   "pygments_lexer": "ipython2",
   "version": "2.7.13"
  }
 },
 "nbformat": 4,
 "nbformat_minor": 2
}
